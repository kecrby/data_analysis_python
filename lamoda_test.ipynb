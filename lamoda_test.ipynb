{
 "cells": [
  {
   "cell_type": "code",
   "execution_count": 83,
   "metadata": {},
   "outputs": [],
   "source": [
    "import pandas as pd\n",
    "import numpy as np\n",
    "import seaborn as sns"
   ]
  },
  {
   "cell_type": "code",
   "execution_count": 84,
   "metadata": {},
   "outputs": [
    {
     "name": "stdout",
     "output_type": "stream",
     "text": [
      "<class 'pandas.core.frame.DataFrame'>\n",
      "RangeIndex: 151 entries, 0 to 150\n",
      "Data columns (total 7 columns):\n",
      " #   Column                                          Non-Null Count  Dtype  \n",
      "---  ------                                          --------------  -----  \n",
      " 0   Город                                           151 non-null    object \n",
      " 1   ФИО сотрудника                                  151 non-null    object \n",
      " 2   Транзитный склад                                151 non-null    object \n",
      " 3   Общий итог сканирований по сотруднику           151 non-null    int64  \n",
      " 4   Общее кол-во паков обработанных на всем складе  151 non-null    int64  \n",
      " 5   Кол-во отработанных часов по сотруднику         151 non-null    float64\n",
      " 6   Кол-во отработанных смен по сотруднику          151 non-null    int64  \n",
      "dtypes: float64(1), int64(3), object(3)\n",
      "memory usage: 8.4+ KB\n"
     ]
    }
   ],
   "source": [
    "df = pd.read_excel('lamoda.xlsx', index_col= None)\n",
    "df.info()"
   ]
  },
  {
   "cell_type": "code",
   "execution_count": 85,
   "metadata": {},
   "outputs": [
    {
     "data": {
      "text/plain": [
       "0"
      ]
     },
     "execution_count": 85,
     "metadata": {},
     "output_type": "execute_result"
    }
   ],
   "source": [
    "## null значений в датафрейме нет\n",
    "df.isnull().sum().sum()"
   ]
  },
  {
   "cell_type": "code",
   "execution_count": 86,
   "metadata": {},
   "outputs": [],
   "source": [
    "## подготовим датафрейм: переименуем столбцы, чтобы удобнее с ними работать\n",
    "df = df.rename(columns={\"Город\": \"city\", \"ФИО сотрудника\": \"worker_name\", \"Транзитный склад\": \"storage\", \n",
    "                \"Общий итог сканирований по сотруднику\": \"scans\", \n",
    "                \"Общее кол-во паков обработанных на всем складе\": \"pacs_total\", \n",
    "                \"Кол-во отработанных часов по сотруднику\": \"worker_hours\", \n",
    "                \"Кол-во отработанных смен по сотруднику\": \"worker_shifts\"})"
   ]
  },
  {
   "cell_type": "code",
   "execution_count": 127,
   "metadata": {},
   "outputs": [
    {
     "name": "stdout",
     "output_type": "stream",
     "text": [
      "<class 'pandas.core.frame.DataFrame'>\n",
      "RangeIndex: 151 entries, 0 to 150\n",
      "Data columns (total 7 columns):\n",
      " #   Column         Non-Null Count  Dtype  \n",
      "---  ------         --------------  -----  \n",
      " 0   city           151 non-null    object \n",
      " 1   worker_name    151 non-null    object \n",
      " 2   storage        151 non-null    object \n",
      " 3   scans          151 non-null    int64  \n",
      " 4   pacs_total     151 non-null    int64  \n",
      " 5   worker_hours   151 non-null    float64\n",
      " 6   worker_shifts  151 non-null    int64  \n",
      "dtypes: float64(1), int64(3), object(3)\n",
      "memory usage: 8.4+ KB\n"
     ]
    }
   ],
   "source": [
    "df.info()"
   ]
  },
  {
   "cell_type": "code",
   "execution_count": 108,
   "metadata": {},
   "outputs": [
    {
     "data": {
      "text/html": [
       "<div>\n",
       "<style scoped>\n",
       "    .dataframe tbody tr th:only-of-type {\n",
       "        vertical-align: middle;\n",
       "    }\n",
       "\n",
       "    .dataframe tbody tr th {\n",
       "        vertical-align: top;\n",
       "    }\n",
       "\n",
       "    .dataframe thead th {\n",
       "        text-align: right;\n",
       "    }\n",
       "</style>\n",
       "<table border=\"1\" class=\"dataframe\">\n",
       "  <thead>\n",
       "    <tr style=\"text-align: right;\">\n",
       "      <th></th>\n",
       "      <th>worker_name</th>\n",
       "      <th>scans</th>\n",
       "      <th>worker_hours</th>\n",
       "      <th>worker_shifts</th>\n",
       "      <th>scans_in_hour</th>\n",
       "      <th>scans_in_shift</th>\n",
       "    </tr>\n",
       "  </thead>\n",
       "  <tbody>\n",
       "    <tr>\n",
       "      <th>66</th>\n",
       "      <td>Лазарев Леонард Адольфович</td>\n",
       "      <td>21978</td>\n",
       "      <td>86.00</td>\n",
       "      <td>23</td>\n",
       "      <td>255.558140</td>\n",
       "      <td>955.565217</td>\n",
       "    </tr>\n",
       "    <tr>\n",
       "      <th>47</th>\n",
       "      <td>Иванов Роберт Юлианович</td>\n",
       "      <td>23855</td>\n",
       "      <td>96.75</td>\n",
       "      <td>26</td>\n",
       "      <td>246.563307</td>\n",
       "      <td>917.500000</td>\n",
       "    </tr>\n",
       "    <tr>\n",
       "      <th>101</th>\n",
       "      <td>Русаков Аполлон Антонинович</td>\n",
       "      <td>76405</td>\n",
       "      <td>331.25</td>\n",
       "      <td>32</td>\n",
       "      <td>230.656604</td>\n",
       "      <td>2387.656250</td>\n",
       "    </tr>\n",
       "    <tr>\n",
       "      <th>70</th>\n",
       "      <td>Лобанов Нелли Парфеньевич</td>\n",
       "      <td>35735</td>\n",
       "      <td>161.25</td>\n",
       "      <td>28</td>\n",
       "      <td>221.612403</td>\n",
       "      <td>1276.250000</td>\n",
       "    </tr>\n",
       "    <tr>\n",
       "      <th>11</th>\n",
       "      <td>Бобров Тарас Романович</td>\n",
       "      <td>27748</td>\n",
       "      <td>129.00</td>\n",
       "      <td>24</td>\n",
       "      <td>215.100775</td>\n",
       "      <td>1156.166667</td>\n",
       "    </tr>\n",
       "    <tr>\n",
       "      <th>100</th>\n",
       "      <td>Романов Назарий Миронович</td>\n",
       "      <td>38144</td>\n",
       "      <td>182.75</td>\n",
       "      <td>24</td>\n",
       "      <td>208.722298</td>\n",
       "      <td>1589.333333</td>\n",
       "    </tr>\n",
       "    <tr>\n",
       "      <th>71</th>\n",
       "      <td>Логинов Артур Ярославович</td>\n",
       "      <td>29887</td>\n",
       "      <td>164.73</td>\n",
       "      <td>32</td>\n",
       "      <td>181.430219</td>\n",
       "      <td>933.968750</td>\n",
       "    </tr>\n",
       "    <tr>\n",
       "      <th>121</th>\n",
       "      <td>Тихонов Исак Ефимович</td>\n",
       "      <td>15417</td>\n",
       "      <td>86.00</td>\n",
       "      <td>21</td>\n",
       "      <td>179.267442</td>\n",
       "      <td>734.142857</td>\n",
       "    </tr>\n",
       "    <tr>\n",
       "      <th>122</th>\n",
       "      <td>Уваров Адам Фролович</td>\n",
       "      <td>53293</td>\n",
       "      <td>301.00</td>\n",
       "      <td>18</td>\n",
       "      <td>177.053156</td>\n",
       "      <td>2960.722222</td>\n",
       "    </tr>\n",
       "    <tr>\n",
       "      <th>119</th>\n",
       "      <td>Тимофеев Арсений Федосеевич</td>\n",
       "      <td>20745</td>\n",
       "      <td>120.00</td>\n",
       "      <td>58</td>\n",
       "      <td>172.875000</td>\n",
       "      <td>357.672414</td>\n",
       "    </tr>\n",
       "  </tbody>\n",
       "</table>\n",
       "</div>"
      ],
      "text/plain": [
       "                     worker_name  scans  worker_hours  worker_shifts  \\\n",
       "66    Лазарев Леонард Адольфович  21978         86.00             23   \n",
       "47       Иванов Роберт Юлианович  23855         96.75             26   \n",
       "101  Русаков Аполлон Антонинович  76405        331.25             32   \n",
       "70     Лобанов Нелли Парфеньевич  35735        161.25             28   \n",
       "11        Бобров Тарас Романович  27748        129.00             24   \n",
       "100    Романов Назарий Миронович  38144        182.75             24   \n",
       "71     Логинов Артур Ярославович  29887        164.73             32   \n",
       "121        Тихонов Исак Ефимович  15417         86.00             21   \n",
       "122         Уваров Адам Фролович  53293        301.00             18   \n",
       "119  Тимофеев Арсений Федосеевич  20745        120.00             58   \n",
       "\n",
       "     scans_in_hour  scans_in_shift  \n",
       "66      255.558140      955.565217  \n",
       "47      246.563307      917.500000  \n",
       "101     230.656604     2387.656250  \n",
       "70      221.612403     1276.250000  \n",
       "11      215.100775     1156.166667  \n",
       "100     208.722298     1589.333333  \n",
       "71      181.430219      933.968750  \n",
       "121     179.267442      734.142857  \n",
       "122     177.053156     2960.722222  \n",
       "119     172.875000      357.672414  "
      ]
     },
     "execution_count": 108,
     "metadata": {},
     "output_type": "execute_result"
    }
   ],
   "source": [
    "## определим показатели для оценки деятельности сотрудников\n",
    "## сформируем датафрейм для работы и определем производительность каждого работника\n",
    "workers_1 = df.groupby(by = 'worker_name', as_index = False).agg(\n",
    "    {'scans' : 'sum', 'worker_hours' : 'sum', 'worker_shifts' : 'sum'})\n",
    "workers_1['scans_in_hour'] = workers_1.scans / workers_1.worker_hours\n",
    "workers_1['scans_in_shift'] = workers_1.scans / workers_1.worker_shifts\n",
    "\n",
    "workers_1.sort_values(by = ['scans_in_hour', 'scans_in_shift'], ascending = False).head(10)"
   ]
  },
  {
   "cell_type": "code",
   "execution_count": 107,
   "metadata": {},
   "outputs": [
    {
     "name": "stderr",
     "output_type": "stream",
     "text": [
      "C:\\Users\\elusk\\AppData\\Local\\Temp\\ipykernel_3436\\166919924.py:8: SettingWithCopyWarning: \n",
      "A value is trying to be set on a copy of a slice from a DataFrame.\n",
      "Try using .loc[row_indexer,col_indexer] = value instead\n",
      "\n",
      "See the caveats in the documentation: https://pandas.pydata.org/pandas-docs/stable/user_guide/indexing.html#returning-a-view-versus-a-copy\n",
      "  workers_2['part_of_scans'] = workers_2.scans / workers_2.scans_total * 100\n"
     ]
    },
    {
     "data": {
      "text/html": [
       "<div>\n",
       "<style scoped>\n",
       "    .dataframe tbody tr th:only-of-type {\n",
       "        vertical-align: middle;\n",
       "    }\n",
       "\n",
       "    .dataframe tbody tr th {\n",
       "        vertical-align: top;\n",
       "    }\n",
       "\n",
       "    .dataframe thead th {\n",
       "        text-align: right;\n",
       "    }\n",
       "</style>\n",
       "<table border=\"1\" class=\"dataframe\">\n",
       "  <thead>\n",
       "    <tr style=\"text-align: right;\">\n",
       "      <th></th>\n",
       "      <th>worker_name</th>\n",
       "      <th>storage</th>\n",
       "      <th>scans</th>\n",
       "      <th>scans_total</th>\n",
       "      <th>part_of_scans</th>\n",
       "    </tr>\n",
       "  </thead>\n",
       "  <tbody>\n",
       "    <tr>\n",
       "      <th>130</th>\n",
       "      <td>Русаков Аполлон Антонинович</td>\n",
       "      <td>LMD Vladikavkaz</td>\n",
       "      <td>76405</td>\n",
       "      <td>105180</td>\n",
       "      <td>72.642137</td>\n",
       "    </tr>\n",
       "    <tr>\n",
       "      <th>2</th>\n",
       "      <td>Воронцов Андрей Христофорович</td>\n",
       "      <td>LMD Syktyvkar</td>\n",
       "      <td>345</td>\n",
       "      <td>671</td>\n",
       "      <td>51.415797</td>\n",
       "    </tr>\n",
       "    <tr>\n",
       "      <th>123</th>\n",
       "      <td>Селиверстов Дональд Олегович</td>\n",
       "      <td>LMD Orel</td>\n",
       "      <td>12281</td>\n",
       "      <td>24454</td>\n",
       "      <td>50.220823</td>\n",
       "    </tr>\n",
       "    <tr>\n",
       "      <th>122</th>\n",
       "      <td>Кудрявцев Гордей Дмитриевич</td>\n",
       "      <td>LMD Orel</td>\n",
       "      <td>9008</td>\n",
       "      <td>24454</td>\n",
       "      <td>36.836509</td>\n",
       "    </tr>\n",
       "    <tr>\n",
       "      <th>15</th>\n",
       "      <td>Дементьев Анатолий Николаевич</td>\n",
       "      <td>LMD Chelyabinsk</td>\n",
       "      <td>12015</td>\n",
       "      <td>36799</td>\n",
       "      <td>32.650344</td>\n",
       "    </tr>\n",
       "    <tr>\n",
       "      <th>1</th>\n",
       "      <td>Гордеев Осип Пантелеймонович</td>\n",
       "      <td>LMD Syktyvkar</td>\n",
       "      <td>206</td>\n",
       "      <td>671</td>\n",
       "      <td>30.700447</td>\n",
       "    </tr>\n",
       "    <tr>\n",
       "      <th>128</th>\n",
       "      <td>Селиверстов Дональд Олегович</td>\n",
       "      <td>LMD Tula</td>\n",
       "      <td>15134</td>\n",
       "      <td>59123</td>\n",
       "      <td>25.597483</td>\n",
       "    </tr>\n",
       "    <tr>\n",
       "      <th>145</th>\n",
       "      <td>Лобанов Нелли Парфеньевич</td>\n",
       "      <td>LMD Samara</td>\n",
       "      <td>35735</td>\n",
       "      <td>143842</td>\n",
       "      <td>24.843231</td>\n",
       "    </tr>\n",
       "    <tr>\n",
       "      <th>132</th>\n",
       "      <td>Иванов Роберт Юлианович</td>\n",
       "      <td>LMD Vladikavkaz</td>\n",
       "      <td>23855</td>\n",
       "      <td>105180</td>\n",
       "      <td>22.680167</td>\n",
       "    </tr>\n",
       "    <tr>\n",
       "      <th>117</th>\n",
       "      <td>Прохоров Юлий Миронович</td>\n",
       "      <td>LMD Kaluga</td>\n",
       "      <td>8230</td>\n",
       "      <td>38973</td>\n",
       "      <td>21.117184</td>\n",
       "    </tr>\n",
       "  </tbody>\n",
       "</table>\n",
       "</div>"
      ],
      "text/plain": [
       "                       worker_name          storage  scans  scans_total  \\\n",
       "130    Русаков Аполлон Антонинович  LMD Vladikavkaz  76405       105180   \n",
       "2    Воронцов Андрей Христофорович    LMD Syktyvkar    345          671   \n",
       "123   Селиверстов Дональд Олегович         LMD Orel  12281        24454   \n",
       "122    Кудрявцев Гордей Дмитриевич         LMD Orel   9008        24454   \n",
       "15   Дементьев Анатолий Николаевич  LMD Chelyabinsk  12015        36799   \n",
       "1     Гордеев Осип Пантелеймонович    LMD Syktyvkar    206          671   \n",
       "128   Селиверстов Дональд Олегович         LMD Tula  15134        59123   \n",
       "145      Лобанов Нелли Парфеньевич       LMD Samara  35735       143842   \n",
       "132        Иванов Роберт Юлианович  LMD Vladikavkaz  23855       105180   \n",
       "117        Прохоров Юлий Миронович       LMD Kaluga   8230        38973   \n",
       "\n",
       "     part_of_scans  \n",
       "130      72.642137  \n",
       "2        51.415797  \n",
       "123      50.220823  \n",
       "122      36.836509  \n",
       "15       32.650344  \n",
       "1        30.700447  \n",
       "128      25.597483  \n",
       "145      24.843231  \n",
       "132      22.680167  \n",
       "117      21.117184  "
      ]
     },
     "execution_count": 107,
     "metadata": {},
     "output_type": "execute_result"
    }
   ],
   "source": [
    "## найдем долю сканов каждого работника относительно общего числа сканов\n",
    "total = df.groupby('storage', as_index = False).agg({'scans' : 'sum'})\n",
    "total = total.rename(columns = {'scans' : 'scans_total'})\n",
    "\n",
    "df_dev = df.merge(total, how = 'inner', on = 'storage')\n",
    "\n",
    "workers_2 = df_dev[['worker_name', 'storage', 'scans', 'scans_total']]\n",
    "workers_2['part_of_scans'] = workers_2.scans / workers_2.scans_total * 100\n",
    "workers_2.sort_values(by = \"part_of_scans\", ascending = False).head(10)"
   ]
  },
  {
   "cell_type": "code",
   "execution_count": 113,
   "metadata": {},
   "outputs": [
    {
     "data": {
      "text/plain": [
       "<seaborn.axisgrid.FacetGrid at 0x2be755f6c10>"
      ]
     },
     "execution_count": 113,
     "metadata": {},
     "output_type": "execute_result"
    },
    {
     "data": {
      "image/png": "[encoded data removed]",
      "text/plain": [
       "<Figure size 500x500 with 1 Axes>"
      ]
     },
     "metadata": {},
     "output_type": "display_data"
    }
   ],
   "source": [
    "## таким образом, на основании имеющихся данных, можем ввести три показателя для оценки деятельности сотрудника склада\n",
    "## первый - количество сканов, произведенное за час работы в среднем\n",
    "\n",
    "ax = sns.relplot(data = workers_1, x = \"worker_hours\", y = \"scans_in_hour\")\n",
    "ax.set(xlabel = 'Суммарное время работы', ylabel = 'Количество сканов в час')"
   ]
  },
  {
   "cell_type": "code",
   "execution_count": 114,
   "metadata": {},
   "outputs": [
    {
     "data": {
      "text/plain": [
       "<seaborn.axisgrid.FacetGrid at 0x2be756208d0>"
      ]
     },
     "execution_count": 114,
     "metadata": {},
     "output_type": "execute_result"
    },
    {
     "data": {
      "image/png": "[encoded data removed]",
      "text/plain": [
       "<Figure size 500x500 with 1 Axes>"
      ]
     },
     "metadata": {},
     "output_type": "display_data"
    }
   ],
   "source": [
    "## второй - количество сканов, произведенное за одну смену в среднем\n",
    "\n",
    "bx = sns.relplot(data = workers_1, x = \"worker_shifts\", y = \"scans_in_shift\")\n",
    "bx.set(xlabel = 'Суммарное число смен', ylabel = 'Количество сканов за смену')"
   ]
  },
  {
   "cell_type": "code",
   "execution_count": 125,
   "metadata": {},
   "outputs": [
    {
     "data": {
      "text/plain": [
       "[Text(0.5, 0, 'Доля произведенных сканов'),\n",
       " Text(0, 0.5, 'Имя работника'),\n",
       " Text(0.5, 1.0, 'LMD Vladikavkaz')]"
      ]
     },
     "execution_count": 125,
     "metadata": {},
     "output_type": "execute_result"
    },
    {
     "data": {
      "image/png": "[encoded data removed]",
      "text/plain": [
       "<Figure size 640x480 with 1 Axes>"
      ]
     },
     "metadata": {},
     "output_type": "display_data"
    }
   ],
   "source": [
    "## третий - доля сканов каждого работника склада, относительно суммарного количества сканов этого склада\n",
    "## приведем пример визуализации данного показателя для склада LMD Vladikavkaz\n",
    "\n",
    "df1 = workers_2.query(\"storage == 'LMD Vladikavkaz'\")\n",
    "\n",
    "cx = sns.barplot(data = df1, x = 'part_of_scans', y = 'worker_name', orient = 'h')\n",
    "cx.set(xlabel = 'Доля произведенных сканов', ylabel = 'Имя работника', title = 'LMD Vladikavkaz')"
   ]
  },
  {
   "cell_type": "code",
   "execution_count": 136,
   "metadata": {},
   "outputs": [
    {
     "name": "stderr",
     "output_type": "stream",
     "text": [
      "C:\\Users\\elusk\\AppData\\Local\\Temp\\ipykernel_3436\\1103843477.py:6: SettingWithCopyWarning: \n",
      "A value is trying to be set on a copy of a slice from a DataFrame.\n",
      "Try using .loc[row_indexer,col_indexer] = value instead\n",
      "\n",
      "See the caveats in the documentation: https://pandas.pydata.org/pandas-docs/stable/user_guide/indexing.html#returning-a-view-versus-a-copy\n",
      "  storages['logistics_total'] = storages.scans_total - storages.pacs_total\n"
     ]
    },
    {
     "data": {
      "text/html": [
       "<div>\n",
       "<style scoped>\n",
       "    .dataframe tbody tr th:only-of-type {\n",
       "        vertical-align: middle;\n",
       "    }\n",
       "\n",
       "    .dataframe tbody tr th {\n",
       "        vertical-align: top;\n",
       "    }\n",
       "\n",
       "    .dataframe thead th {\n",
       "        text-align: right;\n",
       "    }\n",
       "</style>\n",
       "<table border=\"1\" class=\"dataframe\">\n",
       "  <thead>\n",
       "    <tr style=\"text-align: right;\">\n",
       "      <th></th>\n",
       "      <th>city</th>\n",
       "      <th>storage</th>\n",
       "      <th>pacs_total</th>\n",
       "      <th>scans_total</th>\n",
       "      <th>logistics_total</th>\n",
       "    </tr>\n",
       "  </thead>\n",
       "  <tbody>\n",
       "    <tr>\n",
       "      <th>0</th>\n",
       "      <td>Сыктывкар</td>\n",
       "      <td>LMD Syktyvkar</td>\n",
       "      <td>561</td>\n",
       "      <td>671</td>\n",
       "      <td>110</td>\n",
       "    </tr>\n",
       "    <tr>\n",
       "      <th>1</th>\n",
       "      <td>Сыктывкар</td>\n",
       "      <td>LMD Syktyvkar</td>\n",
       "      <td>561</td>\n",
       "      <td>671</td>\n",
       "      <td>110</td>\n",
       "    </tr>\n",
       "    <tr>\n",
       "      <th>2</th>\n",
       "      <td>Сыктывкар</td>\n",
       "      <td>LMD Syktyvkar</td>\n",
       "      <td>561</td>\n",
       "      <td>671</td>\n",
       "      <td>110</td>\n",
       "    </tr>\n",
       "    <tr>\n",
       "      <th>3</th>\n",
       "      <td>Челябинск</td>\n",
       "      <td>LMD Chelyabinsk</td>\n",
       "      <td>5770</td>\n",
       "      <td>36799</td>\n",
       "      <td>31029</td>\n",
       "    </tr>\n",
       "    <tr>\n",
       "      <th>4</th>\n",
       "      <td>Челябинск</td>\n",
       "      <td>LMD Chelyabinsk</td>\n",
       "      <td>5770</td>\n",
       "      <td>36799</td>\n",
       "      <td>31029</td>\n",
       "    </tr>\n",
       "    <tr>\n",
       "      <th>5</th>\n",
       "      <td>Челябинск</td>\n",
       "      <td>LMD Chelyabinsk</td>\n",
       "      <td>5770</td>\n",
       "      <td>36799</td>\n",
       "      <td>31029</td>\n",
       "    </tr>\n",
       "    <tr>\n",
       "      <th>6</th>\n",
       "      <td>Челябинск</td>\n",
       "      <td>LMD Chelyabinsk</td>\n",
       "      <td>5770</td>\n",
       "      <td>36799</td>\n",
       "      <td>31029</td>\n",
       "    </tr>\n",
       "    <tr>\n",
       "      <th>7</th>\n",
       "      <td>Челябинск</td>\n",
       "      <td>LMD Chelyabinsk</td>\n",
       "      <td>5770</td>\n",
       "      <td>36799</td>\n",
       "      <td>31029</td>\n",
       "    </tr>\n",
       "    <tr>\n",
       "      <th>8</th>\n",
       "      <td>Челябинск</td>\n",
       "      <td>LMD Chelyabinsk</td>\n",
       "      <td>5770</td>\n",
       "      <td>36799</td>\n",
       "      <td>31029</td>\n",
       "    </tr>\n",
       "    <tr>\n",
       "      <th>9</th>\n",
       "      <td>Челябинск</td>\n",
       "      <td>LMD Chelyabinsk</td>\n",
       "      <td>5770</td>\n",
       "      <td>36799</td>\n",
       "      <td>31029</td>\n",
       "    </tr>\n",
       "  </tbody>\n",
       "</table>\n",
       "</div>"
      ],
      "text/plain": [
       "        city          storage  pacs_total  scans_total  logistics_total\n",
       "0  Сыктывкар    LMD Syktyvkar         561          671              110\n",
       "1  Сыктывкар    LMD Syktyvkar         561          671              110\n",
       "2  Сыктывкар    LMD Syktyvkar         561          671              110\n",
       "3  Челябинск  LMD Chelyabinsk        5770        36799            31029\n",
       "4  Челябинск  LMD Chelyabinsk        5770        36799            31029\n",
       "5  Челябинск  LMD Chelyabinsk        5770        36799            31029\n",
       "6  Челябинск  LMD Chelyabinsk        5770        36799            31029\n",
       "7  Челябинск  LMD Chelyabinsk        5770        36799            31029\n",
       "8  Челябинск  LMD Chelyabinsk        5770        36799            31029\n",
       "9  Челябинск  LMD Chelyabinsk        5770        36799            31029"
      ]
     },
     "execution_count": 136,
     "metadata": {},
     "output_type": "execute_result"
    }
   ],
   "source": [
    "## перейдем к анализу деятельности складов\n",
    "## данную задачу можно решить, определив два показателя: общее число сканов и число действий, связанных с логистикой\n",
    "## общее число сканов было определено ранее\n",
    "\n",
    "storages = df_dev[['city', 'storage', 'pacs_total', 'scans_total']]\n",
    "storages['logistics_total'] = storages.scans_total - storages.pacs_total\n",
    "\n",
    "storages.head(10)"
   ]
  },
  {
   "cell_type": "code",
   "execution_count": 141,
   "metadata": {},
   "outputs": [
    {
     "data": {
      "text/html": [
       "<div>\n",
       "<style scoped>\n",
       "    .dataframe tbody tr th:only-of-type {\n",
       "        vertical-align: middle;\n",
       "    }\n",
       "\n",
       "    .dataframe tbody tr th {\n",
       "        vertical-align: top;\n",
       "    }\n",
       "\n",
       "    .dataframe thead th {\n",
       "        text-align: right;\n",
       "    }\n",
       "</style>\n",
       "<table border=\"1\" class=\"dataframe\">\n",
       "  <thead>\n",
       "    <tr style=\"text-align: right;\">\n",
       "      <th></th>\n",
       "      <th>city</th>\n",
       "      <th>scans_total</th>\n",
       "      <th>logistics_total</th>\n",
       "    </tr>\n",
       "  </thead>\n",
       "  <tbody>\n",
       "    <tr>\n",
       "      <th>2</th>\n",
       "      <td>Москва</td>\n",
       "      <td>113244106</td>\n",
       "      <td>65659748</td>\n",
       "    </tr>\n",
       "    <tr>\n",
       "      <th>4</th>\n",
       "      <td>Ростов-на-Дону</td>\n",
       "      <td>2570821</td>\n",
       "      <td>712294</td>\n",
       "    </tr>\n",
       "    <tr>\n",
       "      <th>5</th>\n",
       "      <td>Самара</td>\n",
       "      <td>863052</td>\n",
       "      <td>335826</td>\n",
       "    </tr>\n",
       "    <tr>\n",
       "      <th>7</th>\n",
       "      <td>Тула</td>\n",
       "      <td>710846</td>\n",
       "      <td>8196</td>\n",
       "    </tr>\n",
       "    <tr>\n",
       "      <th>8</th>\n",
       "      <td>Челябинск</td>\n",
       "      <td>478387</td>\n",
       "      <td>403377</td>\n",
       "    </tr>\n",
       "    <tr>\n",
       "      <th>0</th>\n",
       "      <td>Владикавказ</td>\n",
       "      <td>420720</td>\n",
       "      <td>229288</td>\n",
       "    </tr>\n",
       "    <tr>\n",
       "      <th>1</th>\n",
       "      <td>Калуга</td>\n",
       "      <td>38973</td>\n",
       "      <td>-283</td>\n",
       "    </tr>\n",
       "    <tr>\n",
       "      <th>3</th>\n",
       "      <td>Орел</td>\n",
       "      <td>24454</td>\n",
       "      <td>-1380</td>\n",
       "    </tr>\n",
       "    <tr>\n",
       "      <th>6</th>\n",
       "      <td>Сыктывкар</td>\n",
       "      <td>2013</td>\n",
       "      <td>330</td>\n",
       "    </tr>\n",
       "  </tbody>\n",
       "</table>\n",
       "</div>"
      ],
      "text/plain": [
       "             city  scans_total  logistics_total\n",
       "2          Москва    113244106         65659748\n",
       "4  Ростов-на-Дону      2570821           712294\n",
       "5          Самара       863052           335826\n",
       "7            Тула       710846             8196\n",
       "8       Челябинск       478387           403377\n",
       "0     Владикавказ       420720           229288\n",
       "1          Калуга        38973             -283\n",
       "3            Орел        24454            -1380\n",
       "6       Сыктывкар         2013              330"
      ]
     },
     "execution_count": 141,
     "metadata": {},
     "output_type": "execute_result"
    }
   ],
   "source": [
    "## разобьем датафрейм storages на группы по территориальному признаку\n",
    "## отрицательный показатель logistics_total говорит о том, что склад больше занимается хранением товара, нежели чем\n",
    "## приемом, отгрузкой и остальными операциями\n",
    "area = storages.groupby('city', as_index = False).agg({'scans_total' : 'sum', 'logistics_total' : 'sum'})\n",
    "area.sort_values(by = ['scans_total', 'logistics_total'], ascending = False)"
   ]
  },
  {
   "cell_type": "code",
   "execution_count": 150,
   "metadata": {},
   "outputs": [
    {
     "data": {
      "text/plain": [
       "[Text(0.5, 0, 'Число работников'), Text(0, 0.5, 'Название склада')]"
      ]
     },
     "execution_count": 150,
     "metadata": {},
     "output_type": "execute_result"
    },
    {
     "data": {
      "image/png": "[encoded data removed]",
      "text/plain": [
       "<Figure size 640x480 with 1 Axes>"
      ]
     },
     "metadata": {},
     "output_type": "display_data"
    }
   ],
   "source": [
    "## разобьем датафрейм df_dev на группы по числу сотрудников \n",
    "workers_count = df_dev.groupby('storage', as_index = False).agg(\n",
    "    {'worker_name' : 'count'}).sort_values(by = 'worker_name', ascending = False)\n",
    "workers_count = workers_count.rename(columns = {'worker_name' : 'number_of_workers'})\n",
    "\n",
    "dx = sns.barplot(data = workers_count, x = 'number_of_workers', y = 'storage', orient = 'h')\n",
    "dx.set(xlabel = 'Число работников', ylabel = 'Название склада')"
   ]
  }
 ],
 "metadata": {
  "kernelspec": {
   "display_name": "Python 3",
   "language": "python",
   "name": "python3"
  },
  "language_info": {
   "codemirror_mode": {
    "name": "ipython",
    "version": 3
   },
   "file_extension": ".py",
   "mimetype": "text/x-python",
   "name": "python",
   "nbconvert_exporter": "python",
   "pygments_lexer": "ipython3",
   "version": "3.11.1"
  },
  "orig_nbformat": 4
 },
 "nbformat": 4,
 "nbformat_minor": 2
}
